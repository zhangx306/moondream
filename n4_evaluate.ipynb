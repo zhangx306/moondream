{
 "cells": [
  {
   "cell_type": "markdown",
   "metadata": {},
   "source": [
    "# Evaluate Moondream Inference Against Gpt4 Inference"
   ]
  },
  {
   "cell_type": "code",
   "execution_count": 2,
   "metadata": {},
   "outputs": [
    {
     "name": "stderr",
     "output_type": "stream",
     "text": [
      "/Users/xing.zhang/anaconda3/envs/moondream/lib/python3.12/site-packages/tqdm/auto.py:21: TqdmWarning: IProgress not found. Please update jupyter and ipywidgets. See https://ipywidgets.readthedocs.io/en/stable/user_install.html\n",
      "  from .autonotebook import tqdm as notebook_tqdm\n",
      "/Users/xing.zhang/anaconda3/envs/moondream/lib/python3.12/site-packages/transformers/utils/generic.py:441: UserWarning: torch.utils._pytree._register_pytree_node is deprecated. Please use torch.utils._pytree.register_pytree_node instead.\n",
      "  _torch_pytree._register_pytree_node(\n",
      "/Users/xing.zhang/anaconda3/envs/moondream/lib/python3.12/site-packages/transformers/utils/generic.py:309: UserWarning: torch.utils._pytree._register_pytree_node is deprecated. Please use torch.utils._pytree.register_pytree_node instead.\n",
      "  _torch_pytree._register_pytree_node(\n"
     ]
    }
   ],
   "source": [
    "import evaluate\n",
    "import pandas as pd\n",
    "from config import both_res_csv_path\n",
    "pd.set_option('display.max_colwidth', 1000)\n",
    "rouge = evaluate.load('rouge')"
   ]
  },
  {
   "cell_type": "code",
   "execution_count": 2,
   "metadata": {},
   "outputs": [
    {
     "data": {
      "text/html": [
       "<div>\n",
       "<style scoped>\n",
       "    .dataframe tbody tr th:only-of-type {\n",
       "        vertical-align: middle;\n",
       "    }\n",
       "\n",
       "    .dataframe tbody tr th {\n",
       "        vertical-align: top;\n",
       "    }\n",
       "\n",
       "    .dataframe thead th {\n",
       "        text-align: right;\n",
       "    }\n",
       "</style>\n",
       "<table border=\"1\" class=\"dataframe\">\n",
       "  <thead>\n",
       "    <tr style=\"text-align: right;\">\n",
       "      <th></th>\n",
       "      <th>image</th>\n",
       "      <th>prompt_moondream</th>\n",
       "      <th>answer_moondream</th>\n",
       "      <th>prompt_gpt</th>\n",
       "      <th>answer_gpt</th>\n",
       "    </tr>\n",
       "  </thead>\n",
       "  <tbody>\n",
       "    <tr>\n",
       "      <th>0</th>\n",
       "      <td>5031 – Metok Crimson Wool &amp; Silk.jpg</td>\n",
       "      <td>describe the colors and patterns</td>\n",
       "      <td>The rug in the image is red with a predominantly white and gray color scheme. It features a floral pattern, with various flowers and plants depicted on the red background. The rug also includes some gray elements, adding contrast to the overall design. The pattern is intricate and visually appealing, making it an attractive decorative piece for the room.</td>\n",
       "      <td>\\nAssuming you are a store assistant please analyze the item in the picture.\\n Only return the data in a json with the keys shape, dominant_colors, style, description, material, suggested_title, theme. \\n Please restrict the product description to 100 words. \\n For theme please return any special characteristics like nature, geometric, abstract etc. \\n</td>\n",
       "      <td>A red and white rug with a nature theme.</td>\n",
       "    </tr>\n",
       "    <tr>\n",
       "      <th>1</th>\n",
       "      <td>6103-Over Dyed -10×13.5.jpg</td>\n",
       "      <td>describe the colors and patterns</td>\n",
       "      <td>The purple carpet features a bold, dark purple color with some lighter shades, creating a striking contrast. The design on the carpet consists of intricate patterns and shapes, which contribute to its unique and eye-catching appearance. The patterns are likely to be the main focus of the carpet and can be seen in various parts of the rug, from the center to the edges.</td>\n",
       "      <td>\\nAssuming you are a store assistant please analyze the item in the picture.\\n Only return the data in a json with the keys shape, dominant_colors, style, description, material, suggested_title, theme. \\n Please restrict the product description to 100 words. \\n For theme please return any special characteristics like nature, geometric, abstract etc. \\n</td>\n",
       "      <td>A large purple rug with a geometric pattern on it.</td>\n",
       "    </tr>\n",
       "  </tbody>\n",
       "</table>\n",
       "</div>"
      ],
      "text/plain": [
       "                                  image                  prompt_moondream  \\\n",
       "0  5031 – Metok Crimson Wool & Silk.jpg  describe the colors and patterns   \n",
       "1           6103-Over Dyed -10×13.5.jpg  describe the colors and patterns   \n",
       "\n",
       "                                                                                                                                                                                                                                                                                                                                                                     answer_moondream  \\\n",
       "0                The rug in the image is red with a predominantly white and gray color scheme. It features a floral pattern, with various flowers and plants depicted on the red background. The rug also includes some gray elements, adding contrast to the overall design. The pattern is intricate and visually appealing, making it an attractive decorative piece for the room.   \n",
       "1  The purple carpet features a bold, dark purple color with some lighter shades, creating a striking contrast. The design on the carpet consists of intricate patterns and shapes, which contribute to its unique and eye-catching appearance. The patterns are likely to be the main focus of the carpet and can be seen in various parts of the rug, from the center to the edges.   \n",
       "\n",
       "                                                                                                                                                                                                                                                                                                                                                           prompt_gpt  \\\n",
       "0  \\nAssuming you are a store assistant please analyze the item in the picture.\\n Only return the data in a json with the keys shape, dominant_colors, style, description, material, suggested_title, theme. \\n Please restrict the product description to 100 words. \\n For theme please return any special characteristics like nature, geometric, abstract etc. \\n   \n",
       "1  \\nAssuming you are a store assistant please analyze the item in the picture.\\n Only return the data in a json with the keys shape, dominant_colors, style, description, material, suggested_title, theme. \\n Please restrict the product description to 100 words. \\n For theme please return any special characteristics like nature, geometric, abstract etc. \\n   \n",
       "\n",
       "                                           answer_gpt  \n",
       "0            A red and white rug with a nature theme.  \n",
       "1  A large purple rug with a geometric pattern on it.  "
      ]
     },
     "metadata": {},
     "output_type": "display_data"
    }
   ],
   "source": [
    "df_all = pd.read_csv(both_res_csv_path) #, usecols=cols)\n",
    "display(df_all.head(2))"
   ]
  },
  {
   "cell_type": "code",
   "execution_count": 3,
   "metadata": {},
   "outputs": [
    {
     "data": {
      "text/plain": [
       "{'rouge1': 0.21098622144773854,\n",
       " 'rouge2': 0.05242767766751229,\n",
       " 'rougeL': 0.16751836788167604,\n",
       " 'rougeLsum': 0.16751760631450768}"
      ]
     },
     "execution_count": 3,
     "metadata": {},
     "output_type": "execute_result"
    }
   ],
   "source": [
    "original_model_results = rouge.compute(\n",
    "    predictions=df_all.inference_moondream,\n",
    "    references=df_all.inference_gpt,\n",
    "    use_aggregator=True,\n",
    "    use_stemmer=True,\n",
    ")\n",
    "original_model_results"
   ]
  },
  {
   "cell_type": "code",
   "execution_count": null,
   "metadata": {},
   "outputs": [],
   "source": []
  }
 ],
 "metadata": {
  "kernelspec": {
   "display_name": "moondream",
   "language": "python",
   "name": "python3"
  },
  "language_info": {
   "codemirror_mode": {
    "name": "ipython",
    "version": 3
   },
   "file_extension": ".py",
   "mimetype": "text/x-python",
   "name": "python",
   "nbconvert_exporter": "python",
   "pygments_lexer": "ipython3",
   "version": "3.12.2"
  }
 },
 "nbformat": 4,
 "nbformat_minor": 2
}
