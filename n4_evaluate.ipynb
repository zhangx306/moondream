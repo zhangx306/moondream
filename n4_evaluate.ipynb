{
 "cells": [
  {
   "cell_type": "markdown",
   "metadata": {},
   "source": [
    "# Evaluate Moondream Inference Against Gpt4 Inference"
   ]
  },
  {
   "cell_type": "code",
   "execution_count": 1,
   "metadata": {},
   "outputs": [
    {
     "name": "stderr",
     "output_type": "stream",
     "text": [
      "/Users/xing.zhang/anaconda3/envs/moondream/lib/python3.12/site-packages/tqdm/auto.py:21: TqdmWarning: IProgress not found. Please update jupyter and ipywidgets. See https://ipywidgets.readthedocs.io/en/stable/user_install.html\n",
      "  from .autonotebook import tqdm as notebook_tqdm\n",
      "/Users/xing.zhang/anaconda3/envs/moondream/lib/python3.12/site-packages/transformers/utils/generic.py:441: UserWarning: torch.utils._pytree._register_pytree_node is deprecated. Please use torch.utils._pytree.register_pytree_node instead.\n",
      "  _torch_pytree._register_pytree_node(\n",
      "/Users/xing.zhang/anaconda3/envs/moondream/lib/python3.12/site-packages/transformers/utils/generic.py:309: UserWarning: torch.utils._pytree._register_pytree_node is deprecated. Please use torch.utils._pytree.register_pytree_node instead.\n",
      "  _torch_pytree._register_pytree_node(\n"
     ]
    }
   ],
   "source": [
    "import evaluate\n",
    "import pandas as pd\n",
    "from config import both_res_csv_path\n",
    "pd.set_option('display.max_colwidth', 1000)\n",
    "rouge = evaluate.load('rouge')"
   ]
  },
  {
   "cell_type": "code",
   "execution_count": 2,
   "metadata": {},
   "outputs": [
    {
     "data": {
      "text/html": [
       "<div>\n",
       "<style scoped>\n",
       "    .dataframe tbody tr th:only-of-type {\n",
       "        vertical-align: middle;\n",
       "    }\n",
       "\n",
       "    .dataframe tbody tr th {\n",
       "        vertical-align: top;\n",
       "    }\n",
       "\n",
       "    .dataframe thead th {\n",
       "        text-align: right;\n",
       "    }\n",
       "</style>\n",
       "<table border=\"1\" class=\"dataframe\">\n",
       "  <thead>\n",
       "    <tr style=\"text-align: right;\">\n",
       "      <th></th>\n",
       "      <th>image</th>\n",
       "      <th>prompt_moondream</th>\n",
       "      <th>moondream_inference</th>\n",
       "      <th>prompt_gpt</th>\n",
       "      <th>gpt4_inference</th>\n",
       "    </tr>\n",
       "  </thead>\n",
       "  <tbody>\n",
       "    <tr>\n",
       "      <th>0</th>\n",
       "      <td>9701 ARIANA TRIBAL 2.9 X 11.9.jpeg</td>\n",
       "      <td>\\nAssuming you are a store assistant please analyze the item in the picture.\\n Only return the data in a json with the keys shape, dominant_colors, style, description, material, suggested_title, theme. \\n Please restrict the product description to 100 words. \\n For theme please return any special characteristics like nature, geometric, abstract etc. \\n</td>\n",
       "      <td>A long red rug with a geometric pattern on it.</td>\n",
       "      <td>\\nAssuming you are a store assistant please analyze the item in the picture.\\n Only return the data in a json with the keys shape, dominant_colors, style, description, material, suggested_title, theme. \\n Please restrict the product description to 100 words. \\n For theme please return any special characteristics like nature, geometric, abstract etc. \\n</td>\n",
       "      <td>{'shape': 'rectangle', 'dominant_colors': ['red', 'blue', 'beige', 'black'], 'style': 'traditional', 'description': 'This is a traditional hand-woven runner rug, likely of Persian origin. It features intricate patterns and symmetrical geometric shapes, bordered by detailed motifs. The craftsmanship suggests it may be antique, adding to its decorative appeal.', 'material': 'wool', 'suggested_title': 'Traditional Persian Runner Rug', 'theme': 'geometric'}</td>\n",
       "    </tr>\n",
       "    <tr>\n",
       "      <th>1</th>\n",
       "      <td>Astro Plum.jpeg</td>\n",
       "      <td>\\nAssuming you are a store assistant please analyze the item in the picture.\\n Only return the data in a json with the keys shape, dominant_colors, style, description, material, suggested_title, theme. \\n Please restrict the product description to 100 words. \\n For theme please return any special characteristics like nature, geometric, abstract etc. \\n</td>\n",
       "      <td>The rug in the picture has a geometric pattern of circles on it.</td>\n",
       "      <td>\\nAssuming you are a store assistant please analyze the item in the picture.\\n Only return the data in a json with the keys shape, dominant_colors, style, description, material, suggested_title, theme. \\n Please restrict the product description to 100 words. \\n For theme please return any special characteristics like nature, geometric, abstract etc. \\n</td>\n",
       "      <td>{'shape': 'rectangle', 'dominant_colors': ['light blue', 'purple'], 'style': 'contemporary', 'description': 'This contemporary rug features an artistic and abstract expression with circular patterns in light blue and purple shades, offering a fresh take on a classic motif.', 'material': 'likely synthetic or wool blend', 'suggested_title': 'Artistic Abstract Circular Pattern Rug', 'theme': 'abstract'}</td>\n",
       "    </tr>\n",
       "  </tbody>\n",
       "</table>\n",
       "</div>"
      ],
      "text/plain": [
       "                                image  \\\n",
       "0  9701 ARIANA TRIBAL 2.9 X 11.9.jpeg   \n",
       "1                     Astro Plum.jpeg   \n",
       "\n",
       "                                                                                                                                                                                                                                                                                                                                                     prompt_moondream  \\\n",
       "0  \\nAssuming you are a store assistant please analyze the item in the picture.\\n Only return the data in a json with the keys shape, dominant_colors, style, description, material, suggested_title, theme. \\n Please restrict the product description to 100 words. \\n For theme please return any special characteristics like nature, geometric, abstract etc. \\n   \n",
       "1  \\nAssuming you are a store assistant please analyze the item in the picture.\\n Only return the data in a json with the keys shape, dominant_colors, style, description, material, suggested_title, theme. \\n Please restrict the product description to 100 words. \\n For theme please return any special characteristics like nature, geometric, abstract etc. \\n   \n",
       "\n",
       "                                                moondream_inference  \\\n",
       "0                    A long red rug with a geometric pattern on it.   \n",
       "1  The rug in the picture has a geometric pattern of circles on it.   \n",
       "\n",
       "                                                                                                                                                                                                                                                                                                                                                           prompt_gpt  \\\n",
       "0  \\nAssuming you are a store assistant please analyze the item in the picture.\\n Only return the data in a json with the keys shape, dominant_colors, style, description, material, suggested_title, theme. \\n Please restrict the product description to 100 words. \\n For theme please return any special characteristics like nature, geometric, abstract etc. \\n   \n",
       "1  \\nAssuming you are a store assistant please analyze the item in the picture.\\n Only return the data in a json with the keys shape, dominant_colors, style, description, material, suggested_title, theme. \\n Please restrict the product description to 100 words. \\n For theme please return any special characteristics like nature, geometric, abstract etc. \\n   \n",
       "\n",
       "                                                                                                                                                                                                                                                                                                                                                                                                                                                              gpt4_inference  \n",
       "0  {'shape': 'rectangle', 'dominant_colors': ['red', 'blue', 'beige', 'black'], 'style': 'traditional', 'description': 'This is a traditional hand-woven runner rug, likely of Persian origin. It features intricate patterns and symmetrical geometric shapes, bordered by detailed motifs. The craftsmanship suggests it may be antique, adding to its decorative appeal.', 'material': 'wool', 'suggested_title': 'Traditional Persian Runner Rug', 'theme': 'geometric'}  \n",
       "1                                                        {'shape': 'rectangle', 'dominant_colors': ['light blue', 'purple'], 'style': 'contemporary', 'description': 'This contemporary rug features an artistic and abstract expression with circular patterns in light blue and purple shades, offering a fresh take on a classic motif.', 'material': 'likely synthetic or wool blend', 'suggested_title': 'Artistic Abstract Circular Pattern Rug', 'theme': 'abstract'}  "
      ]
     },
     "metadata": {},
     "output_type": "display_data"
    }
   ],
   "source": [
    "df_all = pd.read_csv(both_res_csv_path) #, usecols=cols)\n",
    "display(df_all.head(2))"
   ]
  },
  {
   "cell_type": "code",
   "execution_count": 3,
   "metadata": {},
   "outputs": [
    {
     "data": {
      "text/plain": [
       "{'rouge1': 0.18217278383649124,\n",
       " 'rouge2': 0.018277602123310144,\n",
       " 'rougeL': 0.1272482356794014,\n",
       " 'rougeLsum': 0.1270877623238369}"
      ]
     },
     "execution_count": 3,
     "metadata": {},
     "output_type": "execute_result"
    }
   ],
   "source": [
    "original_model_results = rouge.compute(\n",
    "    predictions=df_all.moondream_inference,\n",
    "    references=df_all.gpt4_inference,\n",
    "    use_aggregator=True,\n",
    "    use_stemmer=True,\n",
    ")\n",
    "original_model_results"
   ]
  },
  {
   "cell_type": "code",
   "execution_count": null,
   "metadata": {},
   "outputs": [],
   "source": []
  }
 ],
 "metadata": {
  "kernelspec": {
   "display_name": "moondream",
   "language": "python",
   "name": "python3"
  },
  "language_info": {
   "codemirror_mode": {
    "name": "ipython",
    "version": 3
   },
   "file_extension": ".py",
   "mimetype": "text/x-python",
   "name": "python",
   "nbconvert_exporter": "python",
   "pygments_lexer": "ipython3",
   "version": "3.12.2"
  }
 },
 "nbformat": 4,
 "nbformat_minor": 2
}
